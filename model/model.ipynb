{
 "cells": [
  {
   "cell_type": "code",
   "execution_count": 9,
   "metadata": {},
   "outputs": [],
   "source": [
    "import cv2\n",
    "import numpy as np\n",
    "import os\n",
    "from sklearn.decomposition import PCA"
   ]
  },
  {
   "cell_type": "markdown",
   "metadata": {},
   "source": [
    "# process the wildfire/non-wildfire train data. \n",
    "# convert the images to greyscale values, resize the imgs to 128 x 128 \n"
   ]
  },
  {
   "cell_type": "code",
   "execution_count": 12,
   "metadata": {},
   "outputs": [
    {
     "name": "stderr",
     "output_type": "stream",
     "text": [
      "Premature end of JPEG file\n"
     ]
    },
    {
     "name": "stdout",
     "output_type": "stream",
     "text": [
      "Shape of all_images: (30250, 128, 128)\n",
      "Shape of all_labels: (30250,)\n"
     ]
    }
   ],
   "source": [
    "input_folder_wildfire = '/Users/chasecoogan/Documents/bu/datasets/wildfire/train/wildfire'\n",
    "input_folder_no_wildfire = '/Users/chasecoogan/Documents/bu/datasets/wildfire/train/nowildfire'\n",
    "\n",
    "image_size = (128, 128)\n",
    "\n",
    "images = []\n",
    "labels = []\n",
    "\n",
    "def convert_img_to_greyscale(directory, label):\n",
    "    for ea in os.listdir(directory):\n",
    "        if ea.endswith(\".jpg\"):\n",
    "            path = os.path.join(directory, ea)\n",
    "\n",
    "            img = cv2.imread(path, cv2.IMREAD_GRAYSCALE)\n",
    "            img = cv2.resize(img, image_size)\n",
    "\n",
    "            images.append(img)\n",
    "            labels.append(label)\n",
    "\n",
    "convert_img_to_greyscale(input_folder_wildfire, label=1)\n",
    "convert_img_to_greyscale(input_folder_no_wildfire, label=0)\n",
    "\n",
    "images = np.array(images)\n",
    "labels = np.array(labels)\n",
    "\n",
    "\n",
    "print(images)\n",
    "print(\"Shape of all_images:\", images.shape)  # (num_images, height, width)\n",
    "print(\"Shape of all_labels:\", labels.shape)  # (num_images,)\n",
    "\n",
    "\n",
    "\n"
   ]
  }
 ],
 "metadata": {
  "kernelspec": {
   "display_name": "venv",
   "language": "python",
   "name": "python3"
  },
  "language_info": {
   "codemirror_mode": {
    "name": "ipython",
    "version": 3
   },
   "file_extension": ".py",
   "mimetype": "text/x-python",
   "name": "python",
   "nbconvert_exporter": "python",
   "pygments_lexer": "ipython3",
   "version": "3.12.4"
  }
 },
 "nbformat": 4,
 "nbformat_minor": 2
}
