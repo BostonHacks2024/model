{
 "cells": [
  {
   "cell_type": "code",
   "execution_count": 3,
   "metadata": {},
   "outputs": [],
   "source": [
    "import cv2\n",
    "import numpy as np\n",
    "import os\n",
    "from sklearn.decomposition import PCA\n",
    "import tensorflow as tf\n",
    "from tensorflow.keras.models import Sequential\n",
    "from tensorflow.keras.layers import Conv2D, MaxPooling2D, Flatten, Dense, Dropout"
   ]
  },
  {
   "cell_type": "markdown",
   "metadata": {},
   "source": [
    "convert original imgs to grayscale, resize, and flatten:"
   ]
  },
  {
   "cell_type": "code",
   "execution_count": 4,
   "metadata": {},
   "outputs": [
    {
     "name": "stderr",
     "output_type": "stream",
     "text": [
      "Premature end of JPEG file\n",
      "Premature end of JPEG file\n",
      "/Users/chasecoogan/Documents/bu/venv/lib/python3.12/site-packages/keras/src/layers/convolutional/base_conv.py:107: UserWarning: Do not pass an `input_shape`/`input_dim` argument to a layer. When using Sequential models, prefer using an `Input(shape)` object as the first layer in the model instead.\n",
      "  super().__init__(activity_regularizer=activity_regularizer, **kwargs)\n"
     ]
    },
    {
     "name": "stdout",
     "output_type": "stream",
     "text": [
      "Epoch 1/10\n",
      "\u001b[1m946/946\u001b[0m \u001b[32m━━━━━━━━━━━━━━━━━━━━\u001b[0m\u001b[37m\u001b[0m \u001b[1m184s\u001b[0m 193ms/step - accuracy: 0.8572 - loss: 0.3197 - val_accuracy: 0.9213 - val_loss: 0.2365\n",
      "Epoch 2/10\n",
      "\u001b[1m946/946\u001b[0m \u001b[32m━━━━━━━━━━━━━━━━━━━━\u001b[0m\u001b[37m\u001b[0m \u001b[1m181s\u001b[0m 192ms/step - accuracy: 0.9208 - loss: 0.2163 - val_accuracy: 0.9414 - val_loss: 0.1616\n",
      "Epoch 3/10\n",
      "\u001b[1m946/946\u001b[0m \u001b[32m━━━━━━━━━━━━━━━━━━━━\u001b[0m\u001b[37m\u001b[0m \u001b[1m170s\u001b[0m 179ms/step - accuracy: 0.9291 - loss: 0.1960 - val_accuracy: 0.9479 - val_loss: 0.1527\n",
      "Epoch 4/10\n",
      "\u001b[1m946/946\u001b[0m \u001b[32m━━━━━━━━━━━━━━━━━━━━\u001b[0m\u001b[37m\u001b[0m \u001b[1m170s\u001b[0m 180ms/step - accuracy: 0.9372 - loss: 0.1734 - val_accuracy: 0.9575 - val_loss: 0.1321\n",
      "Epoch 5/10\n",
      "\u001b[1m946/946\u001b[0m \u001b[32m━━━━━━━━━━━━━━━━━━━━\u001b[0m\u001b[37m\u001b[0m \u001b[1m163s\u001b[0m 172ms/step - accuracy: 0.9421 - loss: 0.1605 - val_accuracy: 0.9592 - val_loss: 0.1125\n",
      "Epoch 6/10\n",
      "\u001b[1m946/946\u001b[0m \u001b[32m━━━━━━━━━━━━━━━━━━━━\u001b[0m\u001b[37m\u001b[0m \u001b[1m162s\u001b[0m 172ms/step - accuracy: 0.9454 - loss: 0.1471 - val_accuracy: 0.9263 - val_loss: 0.2433\n",
      "Epoch 7/10\n",
      "\u001b[1m946/946\u001b[0m \u001b[32m━━━━━━━━━━━━━━━━━━━━\u001b[0m\u001b[37m\u001b[0m \u001b[1m162s\u001b[0m 172ms/step - accuracy: 0.9498 - loss: 0.1346 - val_accuracy: 0.9613 - val_loss: 0.1144\n",
      "Epoch 8/10\n",
      "\u001b[1m946/946\u001b[0m \u001b[32m━━━━━━━━━━━━━━━━━━━━\u001b[0m\u001b[37m\u001b[0m \u001b[1m167s\u001b[0m 177ms/step - accuracy: 0.9600 - loss: 0.1060 - val_accuracy: 0.9644 - val_loss: 0.1098\n",
      "Epoch 9/10\n",
      "\u001b[1m946/946\u001b[0m \u001b[32m━━━━━━━━━━━━━━━━━━━━\u001b[0m\u001b[37m\u001b[0m \u001b[1m162s\u001b[0m 171ms/step - accuracy: 0.9664 - loss: 0.0912 - val_accuracy: 0.9633 - val_loss: 0.1080\n",
      "Epoch 10/10\n",
      "\u001b[1m946/946\u001b[0m \u001b[32m━━━━━━━━━━━━━━━━━━━━\u001b[0m\u001b[37m\u001b[0m \u001b[1m162s\u001b[0m 171ms/step - accuracy: 0.9714 - loss: 0.0786 - val_accuracy: 0.9627 - val_loss: 0.1115\n",
      "\u001b[1m197/197\u001b[0m \u001b[32m━━━━━━━━━━━━━━━━━━━━\u001b[0m\u001b[37m\u001b[0m \u001b[1m8s\u001b[0m 42ms/step - accuracy: 0.9677 - loss: 0.1121\n",
      "Accuracy: 0.9626984000205994\n"
     ]
    }
   ],
   "source": [
    "train_input_folder_wildfire = '/Users/chasecoogan/Documents/bu/model/datasets/wildfire/train/wildfire'\n",
    "train_input_folder_no_wildfire = '/Users/chasecoogan/Documents/bu/model/datasets/wildfire/train/nowildfire'\n",
    "\n",
    "test_input_folder_wildfire = '/Users/chasecoogan/Documents/bu/model/datasets/wildfire/test/wildfire'\n",
    "test_input_folder_no_wildfire = '/Users/chasecoogan/Documents/bu/model/datasets/wildfire/test/nowildfire'\n",
    "\n",
    "image_size = (128, 128)\n",
    "\n",
    "def convert_img_to_greyscale(directory, label):\n",
    "    images = []\n",
    "    labels = []\n",
    "\n",
    "    for ea in os.listdir(directory):\n",
    "        if ea.endswith(\".jpg\"):\n",
    "            path = os.path.join(directory, ea)\n",
    "\n",
    "            img = cv2.imread(path, cv2.IMREAD_GRAYSCALE)\n",
    "            img = cv2.resize(img, image_size)\n",
    "\n",
    "            img = img.astype('float32') / 255\n",
    "\n",
    "            images.append(img)\n",
    "            labels.append(label)\n",
    "    return images, labels\n",
    "\n",
    "\n",
    "train_images_wildfire, train_labels_wildfire = convert_img_to_greyscale(train_input_folder_wildfire, label=1)\n",
    "train_images_no_wildfire, train_labels_no_wildfire = convert_img_to_greyscale(train_input_folder_no_wildfire, label=0)\n",
    "\n",
    "test_images_wildfire, test_labels_wildfire = convert_img_to_greyscale(test_input_folder_wildfire, label=1)\n",
    "test_images_no_wildfire, test_labels_no_wildfire = convert_img_to_greyscale(test_input_folder_no_wildfire, label=0)\n",
    "\n",
    "train_images = np.array(train_images_wildfire + train_images_no_wildfire)\n",
    "train_labels = np.array(train_labels_wildfire + train_labels_no_wildfire)\n",
    "\n",
    "test_images = np.array(test_images_wildfire + test_images_no_wildfire)\n",
    "test_labels = np.array(test_labels_wildfire + test_labels_no_wildfire)\n",
    "\n",
    "train_images = train_images.reshape(train_images.shape[0], 128, 128, 1)\n",
    "test_images = test_images.reshape(test_images.shape[0], 128, 128, 1)\n",
    "\n",
    "\n",
    "# --------- skip flatten and pca for now ---------- #\n",
    "\n",
    "# images = images.reshape(images.shape[0], -1)\n",
    "\n",
    "# n_components = 100\n",
    "# pca = PCA(n_components=n_components)\n",
    "# pca_images = pca.fit_transform(images)\n",
    "\n",
    "model = Sequential([\n",
    "    Conv2D(32, (3, 3), activation='relu', input_shape=(128, 128, 1)),\n",
    "    MaxPooling2D((2, 2)),\n",
    "\n",
    "    Conv2D(64, (3, 3), activation='relu'),\n",
    "    MaxPooling2D((2, 2)),\n",
    "\n",
    "    Conv2D(128, (3, 3), activation='relu'),\n",
    "    MaxPooling2D((2, 2)),\n",
    "\n",
    "    Flatten(),\n",
    "    Dense(128, activation='relu'),\n",
    "    Dropout(0.5),\n",
    "    Dense(1, activation='sigmoid')  \n",
    "])\n",
    "\n",
    "model.compile(optimizer='adam', loss='binary_crossentropy', metrics=['accuracy'])\n",
    "\n",
    "history = model.fit(train_images, train_labels, epochs=10, batch_size=32, validation_data=(test_images, test_labels))\n",
    "test_loss, test_accuracy = model.evaluate(test_images, test_labels)\n",
    "print(\"Accuracy:\", test_accuracy)\n"
   ]
  },
  {
   "cell_type": "code",
   "execution_count": null,
   "metadata": {},
   "outputs": [
    {
     "ename": "NameError",
     "evalue": "name 'model' is not defined",
     "output_type": "error",
     "traceback": [
      "\u001b[0;31m---------------------------------------------------------------------------\u001b[0m",
      "\u001b[0;31mNameError\u001b[0m                                 Traceback (most recent call last)",
      "Cell \u001b[0;32mIn[1], line 3\u001b[0m\n\u001b[1;32m      1\u001b[0m \u001b[38;5;66;03m# save model\u001b[39;00m\n\u001b[0;32m----> 3\u001b[0m \u001b[43mmodel\u001b[49m\u001b[38;5;241m.\u001b[39msave(\u001b[38;5;124m'\u001b[39m\u001b[38;5;124mwildfire_classifier_model.keras\u001b[39m\u001b[38;5;124m'\u001b[39m)\n\u001b[1;32m      4\u001b[0m \u001b[38;5;28mprint\u001b[39m(\u001b[38;5;124m'\u001b[39m\u001b[38;5;124msaved\u001b[39m\u001b[38;5;124m'\u001b[39m)\n",
      "\u001b[0;31mNameError\u001b[0m: name 'model' is not defined"
     ]
    }
   ],
   "source": [
    "# save model\n",
    "\n",
    "model.save('wildfire_classifier_model.h5')\n",
    "print('saved')"
   ]
  },
  {
   "cell_type": "code",
   "execution_count": 33,
   "metadata": {},
   "outputs": [
    {
     "name": "stdout",
     "output_type": "stream",
     "text": [
      "\u001b[1m1/1\u001b[0m \u001b[32m━━━━━━━━━━━━━━━━━━━━\u001b[0m\u001b[37m\u001b[0m \u001b[1m0s\u001b[0m 20ms/step\n",
      "path: /Users/chasecoogan/Documents/bu/model/datasets/wildfire/valid/wildfire/-57.3633,51.4978.jpg with res: Not Wildfire\n"
     ]
    }
   ],
   "source": [
    "def predict_img_class(model, img_path):\n",
    "    img = cv2.imread(img_path, cv2.IMREAD_GRAYSCALE)\n",
    "\n",
    "    img = cv2.resize(img, (128, 128))\n",
    "    img = img.astype('float32') / 255.0\n",
    "    img = np.reshape(img, (1, 128, 128, 1))\n",
    "    prediction = model.predict(img)\n",
    "\n",
    "    if prediction[0] > 0.5:\n",
    "        return \"Wildfire\"\n",
    "    else:\n",
    "        return \"Not Wildfire\"\n",
    "    \n",
    "\n",
    "## example use ##\n",
    "path = '/Users/chasecoogan/Documents/bu/model/datasets/wildfire/valid/wildfire/-57.3633,51.4978.jpg'\n",
    "result = predict_img_class(model, path)\n",
    "print(f'path: {path} with res: {result}')"
   ]
  }
 ],
 "metadata": {
  "kernelspec": {
   "display_name": "venv",
   "language": "python",
   "name": "python3"
  },
  "language_info": {
   "codemirror_mode": {
    "name": "ipython",
    "version": 3
   },
   "file_extension": ".py",
   "mimetype": "text/x-python",
   "name": "python",
   "nbconvert_exporter": "python",
   "pygments_lexer": "ipython3",
   "version": "3.12.4"
  }
 },
 "nbformat": 4,
 "nbformat_minor": 2
}
