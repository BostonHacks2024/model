{
 "cells": [
  {
   "cell_type": "code",
   "execution_count": 22,
   "metadata": {},
   "outputs": [],
   "source": [
    "import cv2\n",
    "import numpy as np\n",
    "import os\n",
    "from sklearn.decomposition import PCA\n",
    "import tensorflow as tf\n",
    "from tensorflow.keras.models import Sequential\n",
    "from tensorflow.keras.layers import Conv2D, MaxPooling2D, Flatten, Dense, Dropout"
   ]
  },
  {
   "cell_type": "markdown",
   "metadata": {},
   "source": [
    "convert original imgs to grayscale, resize, and flatten:"
   ]
  },
  {
   "cell_type": "code",
   "execution_count": null,
   "metadata": {},
   "outputs": [],
   "source": [
    "train_input_folder_wildfire = '/Users/chasecoogan/Documents/bu/model/datasets/wildfire/train/wildfire'\n",
    "train_input_folder_no_wildfire = '/Users/chasecoogan/Documents/bu/model/datasets/wildfire/train/nowildfire'\n",
    "\n",
    "test_input_folder_wildfire = '/Users/chasecoogan/Documents/bu/model/datasets/wildfire/test/wildfire'\n",
    "test_input_folder_no_wildfire = '/Users/chasecoogan/Documents/bu/model/datasets/wildfire/test/nowildfire'\n",
    "\n",
    "image_size = (128, 128)\n",
    "\n",
    "def convert_img_to_greyscale(directory, label):\n",
    "    images = []\n",
    "    labels = []\n",
    "\n",
    "    for ea in os.listdir(directory):\n",
    "        if ea.endswith(\".jpg\"):\n",
    "            path = os.path.join(directory, ea)\n",
    "\n",
    "            img = cv2.imread(path, cv2.IMREAD_GRAYSCALE)\n",
    "            img = cv2.resize(img, image_size)\n",
    "\n",
    "            img = img.astype('float32') / 255\n",
    "\n",
    "            images.append(img)\n",
    "            labels.append(label)\n",
    "    return images, labels\n",
    "\n",
    "\n",
    "train_images_wildfire, train_labels_wildfire = convert_img_to_greyscale(train_input_folder_wildfire, label=1)\n",
    "train_images_no_wildfire, train_labels_no_wildfire = convert_img_to_greyscale(train_input_folder_no_wildfire, label=0)\n",
    "\n",
    "test_images_wildfire, test_labels_wildfire = convert_img_to_greyscale(test_input_folder_wildfire, label=1)\n",
    "test_images_no_wildfire, test_labels_no_wildfire = convert_img_to_greyscale(test_input_folder_no_wildfire, label=0)\n",
    "\n",
    "train_images = np.array(train_images_wildfire + train_images_no_wildfire)\n",
    "train_labels = np.array(train_labels_wildfire + train_labels_no_wildfire)\n",
    "\n",
    "test_images = np.array(test_images_wildfire + test_images_no_wildfire)\n",
    "test_labels = np.array(test_labels_wildfire + test_labels_no_wildfire)\n",
    "\n",
    "train_images = train_images.reshape(train_images.shape[0], 128, 128, 1)\n",
    "test_images = test_images.reshape(test_images.shape[0], 128, 128, 1)\n",
    "\n",
    "\n",
    "# --------- skip flatten and pca for now ---------- #\n",
    "\n",
    "# images = images.reshape(images.shape[0], -1)\n",
    "\n",
    "# n_components = 100\n",
    "# pca = PCA(n_components=n_components)\n",
    "# pca_images = pca.fit_transform(images)\n",
    "\n",
    "model = Sequential([\n",
    "    Conv2D(32, (3, 3), activation='relu', input_shape=(128, 128, 1)),\n",
    "    MaxPooling2D((2, 2)),\n",
    "\n",
    "    Conv2D(64, (3, 3), activation='relu'),\n",
    "    MaxPooling2D((2, 2)),\n",
    "\n",
    "    Conv2D(128, (3, 3), activation='relu'),\n",
    "    MaxPooling2D((2, 2)),\n",
    "\n",
    "    Flatten(),\n",
    "    Dense(128, activation='relu'),\n",
    "    Dropout(0.5),\n",
    "    Dense(1, activation='sigmoid')  \n",
    "])\n",
    "\n",
    "model.compile(optimizer='adam', loss='binary_crossentropy', metrics=['accuracy'])\n",
    "\n",
    "history = model.fit(train_images, train_labels, epochs=10, batch_size=32, validation_data=(test_images, test_labels))\n",
    "test_loss, test_accuracy = model.evaluate(test_images, test_labels)\n",
    "print(\"Accuracy:\", test_accuracy)\n"
   ]
  }
 ],
 "metadata": {
  "kernelspec": {
   "display_name": "venv",
   "language": "python",
   "name": "python3"
  },
  "language_info": {
   "codemirror_mode": {
    "name": "ipython",
    "version": 3
   },
   "file_extension": ".py",
   "mimetype": "text/x-python",
   "name": "python",
   "nbconvert_exporter": "python",
   "pygments_lexer": "ipython3",
   "version": "3.12.4"
  }
 },
 "nbformat": 4,
 "nbformat_minor": 2
}
